{
 "cells": [
  {
   "cell_type": "code",
   "execution_count": 1,
   "metadata": {},
   "outputs": [
    {
     "data": {
      "text/plain": [
       "[<openeo_udf.api.raster_collection_tile.RasterCollectionTile at 0x7fd017a3b3d0>,\n",
       " <openeo_udf.api.raster_collection_tile.RasterCollectionTile at 0x7fd04caac450>]"
      ]
     },
     "execution_count": 1,
     "metadata": {},
     "output_type": "execute_result"
    }
   ],
   "source": [
    "%load_ext autoreload\n",
    "%autoreload 2\n",
    "\n",
    "from openeo_udf.api.udf_data import UdfData, RasterCollectionTile, SpatialExtent\n",
    "import numpy as np\n",
    "\n",
    "\n",
    "cube = [\n",
    "    RasterCollectionTile(\n",
    "        id=\"Band1\",\n",
    "        extent=SpatialExtent(bottom=50, top=55, left=3, right=4),\n",
    "        data=np.zeros((3, 30, 40))\n",
    "    ),\n",
    "    RasterCollectionTile(\n",
    "        id=\"Band2\",\n",
    "        extent=SpatialExtent(bottom=50, top=55, left=3, right=4),\n",
    "        data=np.ones((3, 30, 40))\n",
    "    ),\n",
    "]\n",
    "\n",
    "cube\n"
   ]
  },
  {
   "cell_type": "code",
   "execution_count": 2,
   "metadata": {},
   "outputs": [
    {
     "data": {
      "text/plain": [
       "<openeo_udf.api.udf_data.UdfData at 0x7fd04caaf350>"
      ]
     },
     "execution_count": 2,
     "metadata": {},
     "output_type": "execute_result"
    }
   ],
   "source": [
    "data = UdfData({\"EPSG\":900913}, cube)\n",
    "\n",
    "data"
   ]
  },
  {
   "cell_type": "code",
   "execution_count": 3,
   "metadata": {},
   "outputs": [],
   "source": [
    "udf = \"\"\"\n",
    "print(\"Hello UDF!\")\n",
    "print(type(data))\n",
    "\"\"\""
   ]
  },
  {
   "cell_type": "code",
   "execution_count": 4,
   "metadata": {},
   "outputs": [
    {
     "name": "stdout",
     "output_type": "stream",
     "text": [
      "Hello UDF!\n",
      "<class 'openeo_udf.api.udf_data.UdfData'>\n"
     ]
    }
   ],
   "source": [
    "exec(udf, {\"data\": data})"
   ]
  },
  {
   "cell_type": "code",
   "execution_count": 5,
   "metadata": {},
   "outputs": [
    {
     "data": {
      "text/plain": [
       "EOPatch(\n",
       "  data: {\n",
       "    Band1: numpy.ndarray(shape=(3, 30, 40, 1), dtype=float64)\n",
       "    Band2: numpy.ndarray(shape=(3, 30, 40, 1), dtype=float64)\n",
       "  }\n",
       "  mask: {}\n",
       "  scalar: {}\n",
       "  label: {}\n",
       "  vector: {}\n",
       "  data_timeless: {}\n",
       "  mask_timeless: {}\n",
       "  scalar_timeless: {}\n",
       "  label_timeless: {}\n",
       "  vector_timeless: {}\n",
       "  meta_info: {}\n",
       "  bbox: BBox(((3.0, 50.0), (4.0, 55.0)), crs=EPSG:4326)\n",
       "  timestamp: []\n",
       ")"
      ]
     },
     "execution_count": 5,
     "metadata": {},
     "output_type": "execute_result"
    }
   ],
   "source": [
    "from convert import udf_to_eopatch\n",
    "patch = udf_to_eopatch(data)\n",
    "patch"
   ]
  },
  {
   "cell_type": "code",
   "execution_count": 6,
   "metadata": {},
   "outputs": [
    {
     "data": {
      "text/plain": [
       "[<openeo_udf.api.raster_collection_tile.RasterCollectionTile at 0x7fd00ec00810>,\n",
       " <openeo_udf.api.raster_collection_tile.RasterCollectionTile at 0x7fd00ec007d0>]"
      ]
     },
     "execution_count": 6,
     "metadata": {},
     "output_type": "execute_result"
    }
   ],
   "source": [
    "from convert import eopatch_to_udf\n",
    "tiles = eopatch_to_udf(patch)\n",
    "tiles"
   ]
  },
  {
   "cell_type": "code",
   "execution_count": 7,
   "metadata": {},
   "outputs": [],
   "source": [
    "from eolearn.core import MapFeatureTask, FeatureType\n",
    "\n",
    "multiply = MapFeatureTask({FeatureType.DATA: ['Band1', 'Band2']},\n",
    "                          {FeatureType.DATA: ['m1', 'm2']},\n",
    "                           lambda f: f*200)\n",
    "\n",
    "patch = multiply(patch)\n",
    "#patch[(FeatureType.DATA, 'm2')]"
   ]
  },
  {
   "cell_type": "code",
   "execution_count": 8,
   "metadata": {},
   "outputs": [
    {
     "data": {
      "text/plain": [
       "['Band1', 'Band2', 'm1', 'm2']"
      ]
     },
     "execution_count": 8,
     "metadata": {},
     "output_type": "execute_result"
    }
   ],
   "source": [
    "names = [name for name in patch.data]\n",
    "names"
   ]
  }
 ],
 "metadata": {
  "kernelspec": {
   "display_name": "Python 3",
   "language": "python",
   "name": "python3"
  },
  "language_info": {
   "codemirror_mode": {
    "name": "ipython",
    "version": 3
   },
   "file_extension": ".py",
   "mimetype": "text/x-python",
   "name": "python",
   "nbconvert_exporter": "python",
   "pygments_lexer": "ipython3",
   "version": "3.7.4"
  }
 },
 "nbformat": 4,
 "nbformat_minor": 4
}
